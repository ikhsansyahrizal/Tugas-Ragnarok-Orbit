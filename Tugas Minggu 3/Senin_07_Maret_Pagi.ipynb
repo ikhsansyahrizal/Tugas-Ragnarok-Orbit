{
 "cells": [
  {
   "cell_type": "markdown",
   "metadata": {},
   "source": [
    "#Tugas OOP, 3 OOP (encapsulation, abstaction, inheritance, polymorphism)"
   ]
  },
  {
   "cell_type": "code",
   "execution_count": 27,
   "metadata": {},
   "outputs": [
    {
     "name": "stdout",
     "output_type": "stream",
     "text": [
      "Merek : Erigo, ukuran: L, warna : Hitam\n",
      "Erigo Local Pride\n",
      "Local Pride:  Erigo\n",
      "\n",
      "        Merek Pakaian : Erigos\n",
      "        Ukuran Pakaian : L\n",
      "        Warna Pakaian : Krem\n",
      "        \n",
      "Local Pride:  jeans\n",
      "\n",
      "        Merek Pakaian : Jeans\n",
      "        Ukuran Pakaian : XL\n",
      "        Warna Pakaian : Hitam\n",
      "        \n",
      "\n",
      "        Saya Andi dan celana merek Jeans ini sangat bagus,\n",
      "        Ukuran yang saya pakai XL dengan warna Hitam\n",
      "        Jenis celanaya Pensil.\n",
      "        Overall Recommended sekali !!!\n",
      "        \n"
     ]
    }
   ],
   "source": [
    "from abc import abstractmethod, ABC\n",
    "\n",
    "merek = \"Erigo\"\n",
    "ukuruan = \"L\"\n",
    "warna = \"Hitam\"\n",
    "\n",
    "def tagline():\n",
    "    print(\"Erigo Local Pride\")\n",
    "\n",
    "def info(merek, ukuran, warna):\n",
    "    print(f\"Merek : {merek}, ukuran: {ukuran}, warna : {warna}\")\n",
    "\n",
    "info(merek, ukuruan, warna)\n",
    "tagline()\n",
    "\n",
    "\n",
    "\n",
    "#Abstraction\n",
    "class Pakaian(ABC):\n",
    "    def tagline(self, merek):\n",
    "        print(\"Local Pride: \", merek)\n",
    "\n",
    "\n",
    "\n",
    "#Encapsulation & Inheritance\n",
    "class Baju(Pakaian):\n",
    "    def __init__(self, imerek, iukuran, iwarna):\n",
    "        self.imerek = imerek\n",
    "        self.iukuran = iukuran\n",
    "        self.iwarna = iwarna\n",
    "\n",
    "    \n",
    "    def info_pakaian(self):\n",
    "        print(\"\"\"\n",
    "        Merek Pakaian : %s\n",
    "        Ukuran Pakaian : %s\n",
    "        Warna Pakaian : %s\n",
    "        \"\"\" %(self.imerek, self.iukuran, self.iwarna))\n",
    "\n",
    "\n",
    "baju_erigo1 = Baju(\"Erigos\",\"L\",\"Krem\")\n",
    "baju_erigo1.tagline(\"Erigo\")\n",
    "baju_erigo1.info_pakaian()\n",
    "\n",
    "\n",
    "\n",
    "#Polymorphism\n",
    "class Celana(Baju):\n",
    "    def __init__(self, imerek, iukuran, iwarna, ijenis):\n",
    "        super().__init__(imerek, iukuran, iwarna)\n",
    "        self.ijenis = ijenis\n",
    "\n",
    "    \n",
    "    def review_celana(self):\n",
    "        print(\"\"\"\n",
    "        Saya Andi dan celana merek %s ini sangat bagus,\n",
    "        Ukuran yang saya pakai %s dengan warna %s\n",
    "        Jenis celanaya %s.\n",
    "        Overall Recommended sekali !!!\n",
    "        \"\"\" %(self.imerek, self.iukuran, self.iwarna, self.ijenis))\n",
    "\n",
    "\n",
    "celana_jeans1 = Celana(\"Jeans\", \"XL\", \"Hitam\", \"Pensil\")\n",
    "celana_jeans1.tagline(\"jeans\")\n",
    "celana_jeans1.info_pakaian()\n",
    "celana_jeans1.review_celana()\n",
    "\n",
    "\n"
   ]
  },
  {
   "cell_type": "code",
   "execution_count": null,
   "metadata": {},
   "outputs": [],
   "source": []
  }
 ],
 "metadata": {
  "interpreter": {
   "hash": "916dbcbb3f70747c44a77c7bcd40155683ae19c65e1c03b4aa3499c5328201f1"
  },
  "kernelspec": {
   "display_name": "Python 3.8.10 64-bit",
   "language": "python",
   "name": "python3"
  },
  "language_info": {
   "codemirror_mode": {
    "name": "ipython",
    "version": 3
   },
   "file_extension": ".py",
   "mimetype": "text/x-python",
   "name": "python",
   "nbconvert_exporter": "python",
   "pygments_lexer": "ipython3",
   "version": "3.8.10"
  },
  "orig_nbformat": 4
 },
 "nbformat": 4,
 "nbformat_minor": 2
}
