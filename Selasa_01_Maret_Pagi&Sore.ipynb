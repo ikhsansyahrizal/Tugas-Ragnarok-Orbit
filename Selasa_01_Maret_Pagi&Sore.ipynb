{
 "cells": [
  {
   "cell_type": "code",
   "execution_count": 40,
   "metadata": {},
   "outputs": [
    {
     "name": "stdout",
     "output_type": "stream",
     "text": [
      "Hello World!\n",
      "_______\n",
      "hello\n",
      "\n",
      "This is also a string\n"
     ]
    }
   ],
   "source": [
    "#Lab 1 : Getting Started With Python\n",
    "\n",
    "print(\"Hello World!\")\n",
    "\n",
    "print('_______')\n",
    "\n",
    "#Creating String\n",
    "print('hello')\n",
    "print()\n",
    "print('This is also a string')"
   ]
  },
  {
   "cell_type": "code",
   "execution_count": 41,
   "metadata": {},
   "outputs": [
    {
     "name": "stdout",
     "output_type": "stream",
     "text": [
      "New York\n",
      "<class 'str'>\n",
      "8\n",
      "________\n",
      "Hello World\n",
      "\n",
      "H\n",
      "e\n"
     ]
    }
   ],
   "source": [
    "#Variable\n",
    "s = 'New York'\n",
    "print(s)\n",
    "print(type(s))\n",
    "print(len(s))\n",
    "\n",
    "print('________')\n",
    "\n",
    "#String indexing\n",
    "s = 'Hello World'\n",
    "print(s)\n",
    "print()\n",
    "print(s[0])\n",
    "print(s[1])"
   ]
  },
  {
   "cell_type": "code",
   "execution_count": 42,
   "metadata": {},
   "outputs": [
    {
     "name": "stdout",
     "output_type": "stream",
     "text": [
      "Hello World\n",
      "Hello Hello Hello \n",
      "----------\n"
     ]
    }
   ],
   "source": [
    "#String contatenation and repetition\n",
    "s1 = 'Hello'\n",
    "s2 = 'World'\n",
    "print(s1 + \" \" + s2)\n",
    "\n",
    "#repetition\n",
    "print(\"Hello \" * 3)\n",
    "print(\"-\" * 10)"
   ]
  },
  {
   "cell_type": "code",
   "execution_count": 43,
   "metadata": {},
   "outputs": [
    {
     "name": "stdout",
     "output_type": "stream",
     "text": [
      "a\n",
      "e Wor\n",
      "Worl\n",
      "True\n"
     ]
    }
   ],
   "source": [
    "#String slicing and indexing\n",
    "s = \"Namaste World\"\n",
    "\n",
    "print(s[1]) #indexing\n",
    "print(s[6:11]) #slicing\n",
    "print(s[-5:-1])\n",
    "\n",
    "#test substring membership\n",
    "print(\"Wor\" in s)"
   ]
  },
  {
   "cell_type": "code",
   "execution_count": 44,
   "metadata": {},
   "outputs": [
    {
     "name": "stdout",
     "output_type": "stream",
     "text": [
      "HELLO WORLD\n",
      "hello world\n"
     ]
    }
   ],
   "source": [
    "#Basic Built-in String methods\n",
    "s = \"Hello world\"\n",
    "print(s.upper()) #make word to upper\n",
    "print(s.lower()) #make word to lower\n"
   ]
  },
  {
   "cell_type": "code",
   "execution_count": 45,
   "metadata": {},
   "outputs": [
    {
     "name": "stdout",
     "output_type": "stream",
     "text": [
      "My name is Enstein, my age is 22, and it is True that I am married\n",
      "My name is Enstein, my age is 22, and it is True that I am married\n"
     ]
    }
   ],
   "source": [
    "#Print Formatting\n",
    "name = \"Enstein\"\n",
    "age = 22\n",
    "married = True\n",
    "\n",
    "print(\"My name is %s, my age is %s, and it is %s that I am married\" %(name,age,married))\n",
    "print(\"My name is {}, my age is {}, and it is {} that I am married\".format(name,age,married))"
   ]
  },
  {
   "cell_type": "code",
   "execution_count": 47,
   "metadata": {},
   "outputs": [
    {
     "name": "stdout",
     "output_type": "stream",
     "text": [
      "3\n",
      "1\n",
      "2\n",
      "1.5\n",
      "_____\n",
      "8\n",
      "105\n",
      "156\n",
      "_____\n"
     ]
    },
    {
     "data": {
      "text/plain": [
       "0"
      ]
     },
     "execution_count": 47,
     "metadata": {},
     "output_type": "execute_result"
    }
   ],
   "source": [
    "##Numbers\n",
    "\n",
    "#Type of numbers\n",
    "\n",
    "#basic arithmetic\n",
    "print(2+1)\n",
    "print(2-1)\n",
    "print(2*1)\n",
    "print(3/2)\n",
    "\n",
    "print(\"_\"*5)\n",
    "\n",
    "#arithmetic continued\n",
    "print(2**3) #powers\n",
    "print(2+10*10+3) #order of operation\n",
    "print((2+10) * (10+3)) #use parenthesis to specify orders\n",
    "\n",
    "print(\"_\"*5)\n",
    "\n",
    "#variable assignments\n",
    "a = 5\n",
    "a+a\n",
    "\n",
    "a=0 #reassignment\n",
    "a"
   ]
  },
  {
   "cell_type": "code",
   "execution_count": 50,
   "metadata": {},
   "outputs": [
    {
     "name": "stdout",
     "output_type": "stream",
     "text": [
      "<class 'int'>\n",
      "<class 'float'>\n"
     ]
    }
   ],
   "source": [
    "#Data Types & Data Structure\n",
    "\n",
    "#identifying data types\n",
    "a = 42\n",
    "b = 32.30\n",
    "print(type(a))\n",
    "print(type(b))"
   ]
  },
  {
   "cell_type": "code",
   "execution_count": 57,
   "metadata": {},
   "outputs": [
    {
     "name": "stdout",
     "output_type": "stream",
     "text": [
      "[1, 2.3, ['a,', 'b'], 'New York', 3.1]\n",
      "[1, 2, 3, 4, 5, 6]\n",
      "[0, 1, 2, 3, 4, 5, 6, 7, 8, 9]\n",
      "elements from index 4 to 7:  [4, 5, 6]\n",
      "alternate elements, starting at index 0 : [0, 2, 4, 6, 8]\n",
      "every third elemetns, starting at index 1 : [1, 4, 7]\n"
     ]
    }
   ],
   "source": [
    "#List\n",
    " #assign a list\n",
    "my_list = [1,2,3]\n",
    "my_list = ['a string',23,100.232,'o']\n",
    "len(my_list)\n",
    "\n",
    "#add element to list\n",
    "my_list = ['one', 'two', 'three',4,5]\n",
    "\n",
    "#append a value to end of the list\n",
    "l = [1, 2.3, ['a,','b'], 'New York']\n",
    "l.append(3.1)\n",
    "print(l)\n",
    "\n",
    "#extend with another list\n",
    "l = [1,2,3]\n",
    "l.extend([4,5,6])\n",
    "print(l)\n",
    "\n",
    "#slicing\n",
    "lst = list(range(10)) #create list contains 10 numbers, 0-9\n",
    "print(lst)\n",
    "\n",
    "print(\"elements from index 4 to 7: \", lst[4:7])\n",
    "print(\"alternate elements, starting at index 0 :\", lst[0::2])\n",
    "print(\"every third elemetns, starting at index 1 :\", lst[1::3])\n"
   ]
  },
  {
   "cell_type": "code",
   "execution_count": 66,
   "metadata": {},
   "outputs": [
    {
     "name": "stdout",
     "output_type": "stream",
     "text": [
      "value2\n"
     ]
    },
    {
     "data": {
      "text/plain": [
       "{'animal': 'Dog'}"
      ]
     },
     "execution_count": 66,
     "metadata": {},
     "output_type": "execute_result"
    }
   ],
   "source": [
    "#Dictionaries\n",
    "\n",
    "#make dictionary with {}\n",
    "my_dict = {'key1':'value1', 'key2':'value2'}\n",
    "\n",
    "print(my_dict['key2'])\n",
    "\n",
    "my_dict['key1'] = 123\n",
    "my_dict\n",
    "\n",
    "#substract 123 from value\n",
    "my_dict['key1'] = my_dict['key1'] - 123\n",
    "my_dict['key1']\n",
    "\n",
    "#set the object to equeal itself minus 123\n",
    "my_dict['key1'] -= 123\n",
    "my_dict['key1']\n",
    "\n",
    "d = {}\n",
    "d['animal'] = 'Dog'\n",
    "d"
   ]
  },
  {
   "cell_type": "code",
   "execution_count": 73,
   "metadata": {},
   "outputs": [
    {
     "data": {
      "text/plain": [
       "{1, 2, 3, 4, 5, 6}"
      ]
     },
     "execution_count": 73,
     "metadata": {},
     "output_type": "execute_result"
    }
   ],
   "source": [
    "#Set and Booleans\n",
    "#sets\n",
    "x = set()\n",
    "\n",
    "#sets with add method\n",
    "x.add(1)\n",
    "x\n",
    "\n",
    "#add diff element\n",
    "x.add(2)\n",
    "x\n",
    "\n",
    "#add same element\n",
    "x.add(1)\n",
    "x\n",
    "\n",
    "#list of repeats\n",
    "l = [1,1,2,2,3,4,5,6,1,1]\n",
    "set(l) #cast list to set"
   ]
  }
 ],
 "metadata": {
  "interpreter": {
   "hash": "916dbcbb3f70747c44a77c7bcd40155683ae19c65e1c03b4aa3499c5328201f1"
  },
  "kernelspec": {
   "display_name": "Python 3.8.10 64-bit",
   "language": "python",
   "name": "python3"
  },
  "language_info": {
   "codemirror_mode": {
    "name": "ipython",
    "version": 3
   },
   "file_extension": ".py",
   "mimetype": "text/x-python",
   "name": "python",
   "nbconvert_exporter": "python",
   "pygments_lexer": "ipython3",
   "version": "3.8.10"
  },
  "orig_nbformat": 4
 },
 "nbformat": 4,
 "nbformat_minor": 2
}
