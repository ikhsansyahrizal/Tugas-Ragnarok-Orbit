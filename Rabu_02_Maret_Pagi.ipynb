{
 "cells": [
  {
   "cell_type": "code",
   "execution_count": 21,
   "metadata": {},
   "outputs": [],
   "source": [
    "#Nama : Ikhsan Syahrizal\n",
    "#NIM : 195410005\n",
    "#Kelas : Ragnarok"
   ]
  },
  {
   "cell_type": "code",
   "execution_count": 22,
   "metadata": {},
   "outputs": [],
   "source": [
    "#1.1 FALSE\n",
    "#1.2 TRUE\n",
    "#1.3 TRUE\n",
    "#1.4 TRUE\n",
    "#1.5 FALSE\n"
   ]
  },
  {
   "cell_type": "code",
   "execution_count": 2,
   "metadata": {},
   "outputs": [
    {
     "name": "stdout",
     "output_type": "stream",
     "text": [
      "Hello!\n",
      "Enter something: cuk\n",
      "You entered: cuk\n"
     ]
    }
   ],
   "source": [
    "#2 masalahnya pada kurangnya tanda '' dan == (double)\n",
    "print(\"Hello!\")\n",
    "something = input('Enter something: ')\n",
    "print('You entered:', something)"
   ]
  },
  {
   "cell_type": "code",
   "execution_count": 5,
   "metadata": {},
   "outputs": [
    {
     "name": "stdout",
     "output_type": "stream",
     "text": [
      "Hello!\n",
      "I don't know what   mean\n"
     ]
    }
   ],
   "source": [
    "#3 masalahnya pada kurangnya tanda ==\n",
    "print(\"Hello!\")\n",
    "something = input('Enter something: ')\n",
    "if something == 'hello':\n",
    "    print(\"Hello for you too!\")\n",
    "    \n",
    "elif something == 'hi':\n",
    "    print('Hi there!')\n",
    "    \n",
    "else:\n",
    "    print(\"I don't know what \", something, \"mean\")"
   ]
  },
  {
   "cell_type": "code",
   "execution_count": 13,
   "metadata": {},
   "outputs": [
    {
     "name": "stdout",
     "output_type": "stream",
     "text": [
      "halo hai halo hai halo hai halo hai halo hai halo hai halo hai halo hai halo hai halo hai halo hai halo hai halo hai halo hai halo hai halo hai halo hai halo hai halo hai halo hai halo hai halo hai halo hai halo hai halo hai halo hai halo hai halo hai halo hai halo hai halo hai halo hai halo hai halo hai halo hai halo hai halo hai halo hai halo hai halo hai halo hai halo hai halo hai halo hai halo hai halo hai halo hai halo hai halo hai halo hai halo hai halo hai halo hai halo hai halo hai halo hai halo hai halo hai halo hai halo hai halo hai halo hai halo hai halo hai halo hai halo hai halo hai halo hai halo hai halo hai halo hai halo hai halo hai halo hai halo hai halo hai halo hai halo hai halo hai halo hai halo hai halo hai halo hai halo hai halo hai halo hai halo hai halo hai halo hai halo hai halo hai halo hai halo hai halo hai halo hai halo hai halo hai halo hai halo hai halo hai "
     ]
    }
   ],
   "source": [
    "#4 \n",
    "for x in range(100):\n",
    "    print('halo hai', end=\" \")"
   ]
  },
  {
   "cell_type": "markdown",
   "metadata": {},
   "source": [
    "5.a\n",
    "Pemain 1   \tPemain 2\t    Pemenang\n",
    "batu\t        gunting\t        Pemain 1\n",
    "gunting\t        gunting\t        Seri\n",
    "kertas          gunting         Pemain 2\n",
    "\n",
    "batu            batu            Seri\n",
    "gunting         batu            Pemain 2\n",
    "kertas          batu            Pemain 1\n",
    "\n",
    "batu            kertas          Pemain 2\n",
    "gunting         kertas          Pemain 1\n",
    "kertas          kertas          Seri"
   ]
  },
  {
   "cell_type": "code",
   "execution_count": 16,
   "metadata": {},
   "outputs": [
    {
     "name": "stdout",
     "output_type": "stream",
     "text": [
      "Player 2 Wins\n"
     ]
    }
   ],
   "source": [
    "#5.b\n",
    "p1 = input(\"Player 1? \")\n",
    "p2 = input(\"Player 2? \")\n",
    "\n",
    "if (p1 == \"batu\"):\n",
    "    if(p2 == \"gunting\"):\n",
    "        print(\"Player 1 Wins\")\n",
    "\n",
    "    elif(p2 == \"kertas\"):\n",
    "        print(\"Player 2 Wins\")\n",
    "\n",
    "    elif(p2 == \"batu\"):\n",
    "        print(\"Seri\")\n",
    "\n",
    "    else:\n",
    "        print('Input tidak valid!. Gunakan “batu”, “ gunting” dan “kertas” tanpa tanda kutip!')\n",
    "\n",
    "        \n",
    "elif (p1 == \"gunting\"):\n",
    "    if(p2 == \"gunting\"):\n",
    "        print(\"Seri\")\n",
    "\n",
    "    elif(p2 == \"kertas\"):\n",
    "        print(\"Player 1 Wins\")\n",
    "\n",
    "    elif(p2 == \"batu\"):\n",
    "        print(\"Player 2 Wins\")\n",
    "\n",
    "    else:\n",
    "        print('Input tidak valid!. Gunakan “batu”, “ gunting” dan “kertas” tanpa tanda kutip!')\n",
    "\n",
    "\n",
    "elif (p1 == \"kertas\"):\n",
    "    if(p2 == \"gunting\"):\n",
    "        print(\"Player 2 Wins\")\n",
    "\n",
    "    elif(p2 == \"kertas\"):\n",
    "        print(\"Seri\")\n",
    "\n",
    "    elif(p2 == \"batu\"):\n",
    "        print(\"Player 1 Wins\")\n",
    "\n",
    "    else:\n",
    "        print('Input tidak valid!. Gunakan “batu”, “ gunting” dan “kertas” tanpa tanda kutip!')\n",
    "\n",
    "\n",
    "else:\n",
    "        print('Input tidak valid!. Gunakan “batu”, “ gunting” dan “kertas” tanpa tanda kutip!')\n",
    "\n",
    "\n",
    "\n",
    "\n",
    "\n"
   ]
  },
  {
   "cell_type": "code",
   "execution_count": 19,
   "metadata": {},
   "outputs": [],
   "source": [
    "#6\n",
    "\n",
    "while(True):\n",
    "    x = input(\"Masukkan inputan : \")\n",
    "    if(x == 'berhenti'): break\n"
   ]
  },
  {
   "cell_type": "code",
   "execution_count": 27,
   "metadata": {},
   "outputs": [
    {
     "name": "stdout",
     "output_type": "stream",
     "text": [
      "Kamu memesan Donat dengan harga Rp 1250, terima kasih sudah berbelanja!\n",
      "Kamu memesan Bakwan dengan harga Rp 1000, terima kasih sudah berbelanja!\n",
      "Kamu memesan Onde-onde dengan harga Rp 800, terima kasih sudah berbelanja!\n",
      "Kamu memesan Lemper dengan harga Rp 1250, terima kasih sudah berbelanja!\n",
      "Kamu memesan Risol dengan harga Rp 1500, terima kasih sudah berbelanja!\n",
      "Terima kasih sudah berbelanja jajanan pasar kami!\n"
     ]
    }
   ],
   "source": [
    "#7\n",
    "m1 = 'Donat - RP 1250'\n",
    "m2 = 'Bakwan - RP 1000'\n",
    "m3 = 'Onde-onde - RP 800'\n",
    "m4 = 'Lemper - RP 1250'\n",
    "m5 = 'Risol - RP 1500'\n",
    "\n",
    "while(True):\n",
    "    x = input(\"Masukkan inputan : \")\n",
    "    if(x == '1'):\n",
    "        print('Kamu memesan Donat dengan harga Rp 1250, terima kasih sudah berbelanja!')\n",
    "        \n",
    "    elif(x == '2'):\n",
    "        print('Kamu memesan Bakwan dengan harga Rp 1000, terima kasih sudah berbelanja!')\n",
    "    \n",
    "    elif(x == '3'):\n",
    "        print('Kamu memesan Onde-onde dengan harga Rp 800, terima kasih sudah berbelanja!')\n",
    "    \n",
    "    elif(x == '4'):\n",
    "        print('Kamu memesan Lemper dengan harga Rp 1250, terima kasih sudah berbelanja!')\n",
    "        \n",
    "    elif(x == '5'):\n",
    "        print('Kamu memesan Risol dengan harga Rp 1500, terima kasih sudah berbelanja!')\n",
    "    \n",
    "    elif(x == 'cukup'):\n",
    "        print('Terima kasih sudah berbelanja jajanan pasar kami!')\n",
    "        break\n",
    "\n",
    "    else:\n",
    "        print('salah masukan')\n",
    "\n",
    "        \n",
    "    "
   ]
  },
  {
   "cell_type": "code",
   "execution_count": 32,
   "metadata": {},
   "outputs": [
    {
     "name": "stdout",
     "output_type": "stream",
     "text": [
      "Kamu memesan Lemper sebanyak 4, dengan harga Rp 5000, terima kasih sudah berbelanja!\n",
      "Kamu memesan Bakwan dengan harga Rp 1000, terima kasih sudah berbelanja!\n",
      "Kamu memesan Risol dengan harga Rp 1500, terima kasih sudah berbelanja!\n",
      "Kamu memesan Onde-onde sebanyak 4, dengan harga Rp 3200, terima kasih sudah berbelanja!\n",
      "Terima kasih sudah berbelanja jajanan pasar kami!\n"
     ]
    }
   ],
   "source": [
    "#7\n",
    "donat = 1250\n",
    "bakwan = 1000\n",
    "onde = 800\n",
    "lemper = 1250\n",
    "risol = 1500\n",
    "\n",
    "while(True):\n",
    "    x = input(\"Masukkan inputan  / jika ingin membeli lebih dari 1 makanan ketik 'banyak' : \")\n",
    "\n",
    "    if(x == 'banyak'):\n",
    "        y = input(\"masukkan jenis makanan : \")\n",
    "        if(y == 'donat'):\n",
    "            total = int(input(\"Masukkan jumlah donat : \"))\n",
    "            harga = total * donat\n",
    "            print(\"Kamu memesan Donat sebanyak %s, dengan harga Rp %s, terima kasih sudah berbelanja!\" %(total, harga))\n",
    "\n",
    "            \n",
    "        elif(y == 'bakwan'):\n",
    "            total = int(input(\"Masukkan jumlah bakwan : \"))\n",
    "            harga = total * bakwan\n",
    "            print(\"Kamu memesan Bakwan sebanyak %s, dengan harga Rp %s, terima kasih sudah berbelanja!\" %(total, harga))\n",
    "\n",
    "\n",
    "        elif(y == 'onde'):\n",
    "            total = int(input(\"Masukkan jumlah onde : \"))\n",
    "            harga = total * onde\n",
    "            print(\"Kamu memesan Onde-onde sebanyak %s, dengan harga Rp %s, terima kasih sudah berbelanja!\" %(total, harga))\n",
    "\n",
    "\n",
    "        elif(y == 'lemper'):\n",
    "            total = int(input(\"Masukkan jumlah lemper : \"))\n",
    "            harga = total * lemper\n",
    "            print(\"Kamu memesan Lemper sebanyak %s, dengan harga Rp %s, terima kasih sudah berbelanja!\" %(total, harga))\n",
    "\n",
    "\n",
    "        elif(y == 'risol'):\n",
    "            total = int(input(\"Masukkan jumlah risol : \"))\n",
    "            harga = total * risol\n",
    "            print(\"Kamu memesan Risol sebanyak %s, dengan harga Rp %s, terima kasih sudah berbelanja!\" %(total, harga))\n",
    "\n",
    "\n",
    "    elif(x == '1'):\n",
    "        print('Kamu memesan Donat dengan harga Rp 1250, terima kasih sudah berbelanja!')\n",
    "        \n",
    "    elif(x == '2'):\n",
    "        print('Kamu memesan Bakwan dengan harga Rp 1000, terima kasih sudah berbelanja!')\n",
    "    \n",
    "    elif(x == '3'):\n",
    "        print('Kamu memesan Onde-onde dengan harga Rp 800, terima kasih sudah berbelanja!')\n",
    "    \n",
    "    elif(x == '4'):\n",
    "        print('Kamu memesan Lemper dengan harga Rp 1250, terima kasih sudah berbelanja!')\n",
    "        \n",
    "    elif(x == '5'):\n",
    "        print('Kamu memesan Risol dengan harga Rp 1500, terima kasih sudah berbelanja!')\n",
    "    \n",
    "    elif(x == 'cukup'):\n",
    "        print('Terima kasih sudah berbelanja jajanan pasar kami!')\n",
    "        break\n"
   ]
  }
 ],
 "metadata": {
  "interpreter": {
   "hash": "916dbcbb3f70747c44a77c7bcd40155683ae19c65e1c03b4aa3499c5328201f1"
  },
  "kernelspec": {
   "display_name": "Python 3 (ipykernel)",
   "language": "python",
   "name": "python3"
  },
  "language_info": {
   "codemirror_mode": {
    "name": "ipython",
    "version": 3
   },
   "file_extension": ".py",
   "mimetype": "text/x-python",
   "name": "python",
   "nbconvert_exporter": "python",
   "pygments_lexer": "ipython3",
   "version": "3.8.10"
  }
 },
 "nbformat": 4,
 "nbformat_minor": 2
}
