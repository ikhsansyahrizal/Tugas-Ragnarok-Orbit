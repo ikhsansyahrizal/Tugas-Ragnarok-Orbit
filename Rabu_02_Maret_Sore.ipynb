{
 "cells": [
  {
   "cell_type": "markdown",
   "metadata": {},
   "source": [
    "Nama : Ikhsan Syahrizal\n",
    "NIM : 195410006\n",
    "Kelas : Ragnarok"
   ]
  },
  {
   "cell_type": "code",
   "execution_count": 7,
   "metadata": {},
   "outputs": [
    {
     "data": {
      "text/plain": [
       "True"
      ]
     },
     "execution_count": 7,
     "metadata": {},
     "output_type": "execute_result"
    }
   ],
   "source": [
    "#1\n",
    "def bagi(x, y):\n",
    "    if( x % y == 0):\n",
    "        return True\n",
    "\n",
    "    else:\n",
    "        return False\n",
    "\n",
    "bagi(4,2)"
   ]
  },
  {
   "cell_type": "code",
   "execution_count": 6,
   "metadata": {},
   "outputs": [
    {
     "name": "stdout",
     "output_type": "stream",
     "text": [
      "menu()\n",
      "    1. Soup and salad\n",
      "    2. Pasta with meat sauce\n",
      "    3. Chef's special\n",
      "    \n",
      "Which number would you like to order ? 3\n",
      "Chef's special menu coming right up!\n"
     ]
    }
   ],
   "source": [
    "#2\n",
    "\n",
    "def menu(z):\n",
    "    print(\"\"\"menu()\n",
    "    1. Soup and salad\n",
    "    2. Pasta with meat sauce\n",
    "    3. Chef's special\n",
    "    \"\"\")\n",
    "    pil = input(\"Which number would you like to order ? \")\n",
    "    if (pil == '1'):\n",
    "        print(\"Soup and salad coming right up!\")\n",
    "    elif (pil == '2'):\n",
    "        print(\"Pasta with meat sauce coming right up!\")\n",
    "    elif (pil == '3'):\n",
    "        print(\"Chef's special menu coming right up!\")\n",
    "    else:\n",
    "        print(\"Sorry, that is not a valid choice\")\n",
    "\n",
    "menu(pil)\n",
    "   "
   ]
  },
  {
   "cell_type": "code",
   "execution_count": 14,
   "metadata": {},
   "outputs": [
    {
     "name": "stdout",
     "output_type": "stream",
     "text": [
      "79\n"
     ]
    },
    {
     "data": {
      "text/plain": [
       "False"
      ]
     },
     "execution_count": 14,
     "metadata": {},
     "output_type": "execute_result"
    }
   ],
   "source": [
    "#3\n",
    "import random\n",
    "\n",
    "def check_rand3():\n",
    "    x = random.randint(0, 100)\n",
    "    \n",
    "    if(x % 3 == 0 ):\n",
    "        print(x)\n",
    "        return True\n",
    "    else:\n",
    "        print(x)\n",
    "        return False\n",
    "    \n",
    "check_rand3()"
   ]
  },
  {
   "cell_type": "code",
   "execution_count": 22,
   "metadata": {},
   "outputs": [
    {
     "data": {
      "text/plain": [
       "False"
      ]
     },
     "execution_count": 22,
     "metadata": {},
     "output_type": "execute_result"
    }
   ],
   "source": [
    "#4\n",
    "def check_reverse_equal(p,l):\n",
    "    if(p is l):\n",
    "        return True\n",
    "    else:\n",
    "        return False\n",
    "        \n",
    "check_reverse_equal(10,'a')"
   ]
  },
  {
   "cell_type": "code",
   "execution_count": 28,
   "metadata": {},
   "outputs": [
    {
     "name": "stdout",
     "output_type": "stream",
     "text": [
      "Enter your name: ikhsan\n",
      "Your name is ikhsan\n"
     ]
    }
   ],
   "source": [
    "#5 tidak bisa memanggil variabel local(name berada dalam fungsi)\n",
    "def ask_name():\n",
    "    name = input(\"Enter your name: \")\n",
    "    print(\"Your name is\", name)\n",
    "    \n",
    "ask_name()\n"
   ]
  },
  {
   "cell_type": "code",
   "execution_count": null,
   "metadata": {},
   "outputs": [],
   "source": []
  }
 ],
 "metadata": {
  "interpreter": {
   "hash": "916dbcbb3f70747c44a77c7bcd40155683ae19c65e1c03b4aa3499c5328201f1"
  },
  "kernelspec": {
   "display_name": "Python 3 (ipykernel)",
   "language": "python",
   "name": "python3"
  },
  "language_info": {
   "codemirror_mode": {
    "name": "ipython",
    "version": 3
   },
   "file_extension": ".py",
   "mimetype": "text/x-python",
   "name": "python",
   "nbconvert_exporter": "python",
   "pygments_lexer": "ipython3",
   "version": "3.8.10"
  }
 },
 "nbformat": 4,
 "nbformat_minor": 2
}
